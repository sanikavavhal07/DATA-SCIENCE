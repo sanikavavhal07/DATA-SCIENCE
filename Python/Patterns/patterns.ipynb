{
 "cells": [
  {
   "cell_type": "code",
   "execution_count": 1,
   "id": "48278eb5-abb5-4194-8bac-e666ffb7e6fa",
   "metadata": {},
   "outputs": [
    {
     "name": "stdin",
     "output_type": "stream",
     "text": [
      "Enter a number 9\n"
     ]
    },
    {
     "name": "stdout",
     "output_type": "stream",
     "text": [
      "                    A \n",
      "                  A B A \n",
      "                A B C B A \n",
      "              A B C D C B A \n",
      "            A B C D E D C B A \n",
      "          A B C D E F E D C B A \n",
      "        A B C D E F G F E D C B A \n",
      "      A B C D E F G H G F E D C B A \n",
      "    A B C D E F G H I H G F E D C B A \n"
     ]
    }
   ],
   "source": [
    "n=int(input(\"Enter a number\"))\n",
    "for i in range(n):\n",
    "    for j in range(i,n+1):\n",
    "        print(\" \",end=\" \")\n",
    "    \n",
    "    for j in range(i+1):\n",
    "        print(chr(65+j),end=\" \")\n",
    "       \n",
    "    for j in range(i-1,-1,-1):\n",
    "        print(chr(65+j),end=' ')\n",
    "\n",
    "    print() \n"
   ]
  },
  {
   "cell_type": "code",
   "execution_count": 2,
   "id": "375fe911-1eb8-40fa-8f5c-6d93680b1fd9",
   "metadata": {},
   "outputs": [
    {
     "name": "stdin",
     "output_type": "stream",
     "text": [
      "Enter a String :  sanika\n"
     ]
    },
    {
     "name": "stdout",
     "output_type": "stream",
     "text": [
      "s \n",
      "s a \n",
      "s a n \n",
      "s a n i \n",
      "s a n i k \n",
      "s a n i k a \n"
     ]
    }
   ],
   "source": [
    "str= input(\"Enter a String : \")\n",
    "n=len(str)\n",
    "for i in range(n):\n",
    "    for j in range(i+1):\n",
    "        print(str[j],end=' ')\n",
    "    \n",
    "    print()"
   ]
  },
  {
   "cell_type": "code",
   "execution_count": 3,
   "id": "41d2b6e7-b820-4913-9d82-ebda08772be9",
   "metadata": {},
   "outputs": [
    {
     "name": "stdin",
     "output_type": "stream",
     "text": [
      "Enter a string : zoro\n"
     ]
    },
    {
     "name": "stdout",
     "output_type": "stream",
     "text": [
      "        z \n",
      "      z o \n",
      "    z o r \n",
      "  z o r o \n"
     ]
    }
   ],
   "source": [
    "string=input(\"Enter a string :\")\n",
    "n=len(string)\n",
    "for i in range(n):\n",
    "    for j in range(i,n):\n",
    "        print(\" \",end=\" \")\n",
    "    for j in range(i+1):\n",
    "        print(string[j],end=' ')\n",
    "    print()    \n",
    "    "
   ]
  },
  {
   "cell_type": "code",
   "execution_count": 4,
   "id": "2bfac610-a962-4247-a7ea-2ada1346ebda",
   "metadata": {},
   "outputs": [
    {
     "name": "stdin",
     "output_type": "stream",
     "text": [
      "Enter a string : robin\n"
     ]
    },
    {
     "name": "stdout",
     "output_type": "stream",
     "text": [
      "r o b i n \n",
      "o b i n \n",
      "b i n \n",
      "i n \n",
      "n \n"
     ]
    }
   ],
   "source": [
    "string=input(\"Enter a string :\")\n",
    "n=len(string)\n",
    "for i in range(n):\n",
    "    for j in range(i,n):\n",
    "        print(string[j],end=\" \")\n",
    "    print()    "
   ]
  },
  {
   "cell_type": "code",
   "execution_count": 6,
   "id": "b7da4cff-8b97-4803-8546-bd91d0bda0a6",
   "metadata": {},
   "outputs": [
    {
     "name": "stdin",
     "output_type": "stream",
     "text": [
      "Enter a string : luffy\n"
     ]
    },
    {
     "name": "stdout",
     "output_type": "stream",
     "text": [
      "     l \n",
      "    l u \n",
      "   l u f \n",
      "  l u f f \n",
      " l u f f y \n"
     ]
    }
   ],
   "source": [
    "string=input(\"Enter a string :\")\n",
    "n=len(string)\n",
    "for i in range(n):\n",
    "    for j in range(i,n):\n",
    "        print(\" \",end=\"\")\n",
    "    for j in range(i+1):\n",
    "        print(string[j],end=\" \")\n",
    "    print()    "
   ]
  },
  {
   "cell_type": "code",
   "execution_count": 7,
   "id": "0ba4f31d-f810-4739-92cd-c5d7d0854d3b",
   "metadata": {},
   "outputs": [
    {
     "name": "stdin",
     "output_type": "stream",
     "text": [
      "Enter string : chopper\n"
     ]
    },
    {
     "name": "stdout",
     "output_type": "stream",
     "text": [
      "       c \n",
      "      h h \n",
      "     o o o \n",
      "    p p p p \n",
      "   p p p p p \n",
      "  e e e e e e \n",
      " r r r r r r r \n"
     ]
    }
   ],
   "source": [
    "string=input(\"Enter string :\")\n",
    "n=len(string)\n",
    "for i in range(n):\n",
    "    for j in range(i,n):\n",
    "        print(\" \",end=\"\")\n",
    "    for j in range(i+1):\n",
    "        print(string[i],end=' ')\n",
    "    print()    "
   ]
  },
  {
   "cell_type": "code",
   "execution_count": 8,
   "id": "5ac554c9-2d9c-408a-9563-b5227e1776fd",
   "metadata": {},
   "outputs": [
    {
     "name": "stdin",
     "output_type": "stream",
     "text": [
      "Enter the string: franky\n"
     ]
    },
    {
     "name": "stdout",
     "output_type": "stream",
     "text": [
      "            f \n",
      "          r r \n",
      "        a a a \n",
      "      n n n n \n",
      "    k k k k k \n",
      "  y y y y y y \n"
     ]
    }
   ],
   "source": [
    "string=input(\"Enter the string:\")\n",
    "n=len(string)\n",
    "for i in range(n):\n",
    "    for j in range(i,n):\n",
    "        print(\" \",end=\" \")\n",
    "    for j in range(i+1):\n",
    "        print(string[i],end=' ')\n",
    "    print()    "
   ]
  },
  {
   "cell_type": "code",
   "execution_count": 9,
   "id": "15921fa2-455a-40cc-b53e-79c59fa81173",
   "metadata": {},
   "outputs": [
    {
     "name": "stdin",
     "output_type": "stream",
     "text": [
      "Enter a string : nami\n"
     ]
    },
    {
     "name": "stdout",
     "output_type": "stream",
     "text": [
      "  n a m i \n",
      "    a m i \n",
      "      m i \n",
      "        i \n"
     ]
    }
   ],
   "source": [
    "string=input(\"Enter a string :\")\n",
    "n=len(string)\n",
    "for i in range(n):\n",
    "    for j in range(i+1):\n",
    "        print(\" \",end=\" \")\n",
    "    for j in range(i,n):\n",
    "        print(string[j],end=\" \")\n",
    "    print()    "
   ]
  },
  {
   "cell_type": "code",
   "execution_count": 10,
   "id": "650fb1da-e9d9-42b8-886b-a71a09b453a6",
   "metadata": {},
   "outputs": [
    {
     "name": "stdin",
     "output_type": "stream",
     "text": [
      "Enter a string : sanji\n"
     ]
    },
    {
     "name": "stdout",
     "output_type": "stream",
     "text": [
      " s a n j i \n",
      "  a n j i \n",
      "   n j i \n",
      "    j i \n",
      "     i \n"
     ]
    }
   ],
   "source": [
    "string=input(\"Enter a string :\")\n",
    "n=len(string)\n",
    "for i in range(n):\n",
    "    for j in range(i+1):\n",
    "        print(\" \",end=\"\")\n",
    "    for j in range(i,n):\n",
    "        print(string[j],end=\" \")\n",
    "    print()    "
   ]
  }
 ],
 "metadata": {
  "kernelspec": {
   "display_name": "Python 3 (ipykernel)",
   "language": "python",
   "name": "python3"
  },
  "language_info": {
   "codemirror_mode": {
    "name": "ipython",
    "version": 3
   },
   "file_extension": ".py",
   "mimetype": "text/x-python",
   "name": "python",
   "nbconvert_exporter": "python",
   "pygments_lexer": "ipython3",
   "version": "3.12.4"
  }
 },
 "nbformat": 4,
 "nbformat_minor": 5
}
